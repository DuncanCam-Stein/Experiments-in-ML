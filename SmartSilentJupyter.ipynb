{
 "cells": [
  {
   "cell_type": "markdown",
   "metadata": {},
   "source": [
    "## SmartSilent - A machine learning algorithm to predict behavior.\n",
    "### Author: Duncan Cameron-Steinke\n",
    "\n",
    "Firstly a fictional list of text messages is created"
   ]
  },
  {
   "cell_type": "code",
   "execution_count": 26,
   "metadata": {},
   "outputs": [],
   "source": [
    "import pandas as pd\n",
    "import scipy as sp\n",
    "import numpy as np\n",
    "import matplotlib.pylab as plt\n",
    "import seaborn\n",
    "import string\n",
    "\n",
    "# Defining the list of contacts\n",
    "Names = ['Friend', 'Family', 'Colleague', 'Aquaintance']\n",
    "MessagesFile = pd.DataFrame( columns = ['Name','Time','Received'])"
   ]
  },
  {
   "cell_type": "markdown",
   "metadata": {},
   "source": [
    "Above a list of contacts labeled \"Names\" is defined, and the messages file format is defined.\n",
    "\n",
    "Below, beginning at time T, a name is randomely selected from \"Names\" array and saved as an incoming text."
   ]
  },
  {
   "cell_type": "code",
   "execution_count": 7,
   "metadata": {},
   "outputs": [],
   "source": [
    "T = pd.Timestamp(2018,1,1)\n",
    "j = -1\n",
    "for i in range(1000):\n",
    "    j = j + 1\n",
    "    # A text is received from a random person\n",
    "    N = Names[np.random.randint(0,4)] \n",
    "    MessagesFile.loc[j, 'Name'] = N \n",
    "    MessagesFile.loc[j, 'Time'] = T \n",
    "    MessagesFile.loc[j, 'Received'] = True # Wether the text is incoming or outgoing\n",
    "    \n",
    "    # A random response time is chosen on the interval of 0 and 2 hours.\n",
    "    Delta = pd.Timedelta(hours=np.random.randint(0,2), minutes = np.random.randint(0,60))\n",
    "    \n",
    "    j = j + 1\n",
    "    # For each contact there is a different probability for a response occuring.\n",
    "    # In addition, 'Friend' has a 30 minute shorter average response time, and aquaintance\n",
    "    # has a 30 minute longer average response time\n",
    "    if N == 'Friend' and np.random.random_sample() > 0.25:\n",
    "        Delta = Delta - pd.Timedelta(minutes = 30)\n",
    "        T = T + Delta \n",
    "        MessagesFile.loc[j] = ('Friend', T, False)\n",
    "        \n",
    "    elif N == 'Family' and np.random.random_sample() > 0.25:\n",
    "        T = T + Delta\n",
    "        MessagesFile.loc[j] = ('Family', T, False)\n",
    "\n",
    "    elif N == 'Colleague' and np.random.random_sample() > 0.5:\n",
    "        T = T + Delta\n",
    "        MessagesFile.loc[j] = ('Colleague', T, False)\n",
    "\n",
    "    elif N == 'Aquaintance' and np.random.random_sample() > 0.75:\n",
    "        Delta = Delta + pd.Timedelta(minutes = 30)\n",
    "        T = T + Delta \n",
    "        MessagesFile.loc[j] = ('Aquaintance', T, False)\n",
    "    else:\n",
    "        T = T + Delta\n",
    "        j = j - 1"
   ]
  },
  {
   "cell_type": "markdown",
   "metadata": {},
   "source": [
    "The messages data set is finished being constructed and includes: The person who sent/received the text, the time at which the text was sent/received, the status of whether it is received or sent (received = true)."
   ]
  },
  {
   "cell_type": "code",
   "execution_count": 11,
   "metadata": {},
   "outputs": [
    {
     "data": {
      "text/html": [
       "<div>\n",
       "<style scoped>\n",
       "    .dataframe tbody tr th:only-of-type {\n",
       "        vertical-align: middle;\n",
       "    }\n",
       "\n",
       "    .dataframe tbody tr th {\n",
       "        vertical-align: top;\n",
       "    }\n",
       "\n",
       "    .dataframe thead th {\n",
       "        text-align: right;\n",
       "    }\n",
       "</style>\n",
       "<table border=\"1\" class=\"dataframe\">\n",
       "  <thead>\n",
       "    <tr style=\"text-align: right;\">\n",
       "      <th></th>\n",
       "      <th>Name</th>\n",
       "      <th>Time</th>\n",
       "      <th>Received</th>\n",
       "    </tr>\n",
       "  </thead>\n",
       "  <tbody>\n",
       "    <tr>\n",
       "      <th>0</th>\n",
       "      <td>Colleague</td>\n",
       "      <td>2018-01-01 00:00:00</td>\n",
       "      <td>True</td>\n",
       "    </tr>\n",
       "    <tr>\n",
       "      <th>1</th>\n",
       "      <td>Colleague</td>\n",
       "      <td>2018-01-01 01:12:00</td>\n",
       "      <td>False</td>\n",
       "    </tr>\n",
       "    <tr>\n",
       "      <th>2</th>\n",
       "      <td>Friend</td>\n",
       "      <td>2018-01-01 01:12:00</td>\n",
       "      <td>True</td>\n",
       "    </tr>\n",
       "    <tr>\n",
       "      <th>3</th>\n",
       "      <td>Friend</td>\n",
       "      <td>2018-01-01 00:49:00</td>\n",
       "      <td>False</td>\n",
       "    </tr>\n",
       "    <tr>\n",
       "      <th>4</th>\n",
       "      <td>Friend</td>\n",
       "      <td>2018-01-01 00:49:00</td>\n",
       "      <td>True</td>\n",
       "    </tr>\n",
       "  </tbody>\n",
       "</table>\n",
       "</div>"
      ],
      "text/plain": [
       "        Name                 Time Received\n",
       "0  Colleague  2018-01-01 00:00:00     True\n",
       "1  Colleague  2018-01-01 01:12:00    False\n",
       "2     Friend  2018-01-01 01:12:00     True\n",
       "3     Friend  2018-01-01 00:49:00    False\n",
       "4     Friend  2018-01-01 00:49:00     True"
      ]
     },
     "execution_count": 11,
     "metadata": {},
     "output_type": "execute_result"
    }
   ],
   "source": [
    "MessagesFile.head() "
   ]
  },
  {
   "cell_type": "markdown",
   "metadata": {},
   "source": [
    "While creating the dataset the same total number of texts was received from each contact, however not all contacts had the same likelyhood of soliciting a response. If a text is responded to in less then an hour, the text status is considered \"responded\"."
   ]
  },
  {
   "cell_type": "code",
   "execution_count": 15,
   "metadata": {},
   "outputs": [
    {
     "data": {
      "image/png": "[encoded data removed]",
      "text/plain": [
       "<Figure size 432x288 with 1 Axes>"
      ]
     },
     "metadata": {},
     "output_type": "display_data"
    },
    {
     "data": {
      "image/png": "[encoded data removed]",
      "text/plain": [
       "<Figure size 432x288 with 1 Axes>"
      ]
     },
     "metadata": {},
     "output_type": "display_data"
    }
   ],
   "source": [
    "Cut_off = pd.Timedelta(minutes = 60)\n",
    "\n",
    "# This dataFrame is used solely for plotting\n",
    "NamesPlot = ['Friend','FriendTotal','Family','FamilyTotal','Colleague','ColleagueTotal','Aquaintance','AquaintanceTotal']\n",
    "Plot = pd.DataFrame(data = np.zeros((1,len(NamesPlot))), columns = NamesPlot)\n",
    "j = 0\n",
    "\n",
    "# Searches through each message, if the condition that a response happened is \n",
    "# True, then the total responses for that name is updated.\n",
    "for i in range(1,len(MessagesFile)-1):    \n",
    "    if MessagesFile.loc[i, 'Received'] == True:\n",
    "        j = j + 1\n",
    "\n",
    "        N = MessagesFile.loc[i, 'Name']\n",
    "        Plot.loc[j] = Plot.loc[j-1]\n",
    "        time_delay = MessagesFile.loc[i+1, 'Time'] - MessagesFile.loc[i, 'Time']\n",
    "        if MessagesFile.loc[i+1,'Received'] == False and time_delay < Cut_off:\n",
    "            response = True\n",
    "            Plot.loc[j, N] = Plot.loc[j, N] + 1\n",
    "            Plot.loc[j, N + 'Total'] = Plot.loc[j, N + 'Total'] + 1\n",
    "            \n",
    "        else:\n",
    "            response = False\n",
    "            Plot.loc[j, N + 'Total'] = Plot.loc[j, N + 'Total'] + 1\n",
    "            \n",
    "    else:\n",
    "        received = False\n",
    "\n",
    "plt.plot(Plot[Names])\n",
    "plt.legend(Names)\n",
    "plt.title(\"Positive responses by person for increasing texts received\")\n",
    "plt.ylabel(\"Responses\")\n",
    "plt.xlabel(\"texts received\")\n",
    "plt.show()\n",
    "\n",
    "PlotData = Plot.loc[998]\n",
    "plt.bar(Names,PlotData[['FriendTotal','FamilyTotal','ColleagueTotal','AquaintanceTotal']], label = 'Total Texts')\n",
    "plt.bar(Names,PlotData[Names], color = 'g', label = 'Texts with Responses')\n",
    "plt.legend()\n",
    "plt.ylabel(\"texts\")\n",
    "plt.title(\"Texts with responses vs total texts\")\n",
    "plt.show()"
   ]
  },
  {
   "cell_type": "markdown",
   "metadata": {},
   "source": [
    "* Figure 1: The total number of texts responded to by contact vs total number of texts received\n",
    "* Figure 2: the percentage of texts responded to by contact\n",
    "\n",
    "### Using the above messages file to determine posterior probability of a response"
   ]
  },
  {
   "cell_type": "code",
   "execution_count": 17,
   "metadata": {},
   "outputs": [
    {
     "data": {
      "text/html": [
       "<div>\n",
       "<style scoped>\n",
       "    .dataframe tbody tr th:only-of-type {\n",
       "        vertical-align: middle;\n",
       "    }\n",
       "\n",
       "    .dataframe tbody tr th {\n",
       "        vertical-align: top;\n",
       "    }\n",
       "\n",
       "    .dataframe thead th {\n",
       "        text-align: right;\n",
       "    }\n",
       "</style>\n",
       "<table border=\"1\" class=\"dataframe\">\n",
       "  <thead>\n",
       "    <tr style=\"text-align: right;\">\n",
       "      <th></th>\n",
       "      <th>Names</th>\n",
       "      <th>Returns</th>\n",
       "      <th>Total</th>\n",
       "      <th>Bayes Probability</th>\n",
       "      <th>Likelihood</th>\n",
       "      <th>Evidence</th>\n",
       "      <th>Last</th>\n",
       "      <th>Modified Bayes Probabiliy</th>\n",
       "    </tr>\n",
       "  </thead>\n",
       "  <tbody>\n",
       "    <tr>\n",
       "      <th>0</th>\n",
       "      <td>Friend</td>\n",
       "      <td>0.0</td>\n",
       "      <td>0.0</td>\n",
       "      <td>0.0</td>\n",
       "      <td>0.0</td>\n",
       "      <td>0.0</td>\n",
       "      <td>0.0</td>\n",
       "      <td>0.0</td>\n",
       "    </tr>\n",
       "    <tr>\n",
       "      <th>1</th>\n",
       "      <td>Family</td>\n",
       "      <td>0.0</td>\n",
       "      <td>0.0</td>\n",
       "      <td>0.0</td>\n",
       "      <td>0.0</td>\n",
       "      <td>0.0</td>\n",
       "      <td>0.0</td>\n",
       "      <td>0.0</td>\n",
       "    </tr>\n",
       "    <tr>\n",
       "      <th>2</th>\n",
       "      <td>Colleague</td>\n",
       "      <td>0.0</td>\n",
       "      <td>0.0</td>\n",
       "      <td>0.0</td>\n",
       "      <td>0.0</td>\n",
       "      <td>0.0</td>\n",
       "      <td>0.0</td>\n",
       "      <td>0.0</td>\n",
       "    </tr>\n",
       "    <tr>\n",
       "      <th>3</th>\n",
       "      <td>Aquaintance</td>\n",
       "      <td>0.0</td>\n",
       "      <td>0.0</td>\n",
       "      <td>0.0</td>\n",
       "      <td>0.0</td>\n",
       "      <td>0.0</td>\n",
       "      <td>0.0</td>\n",
       "      <td>0.0</td>\n",
       "    </tr>\n",
       "  </tbody>\n",
       "</table>\n",
       "</div>"
      ],
      "text/plain": [
       "         Names  Returns  Total  Bayes Probability  Likelihood  Evidence  Last  \\\n",
       "0       Friend      0.0    0.0                0.0         0.0       0.0   0.0   \n",
       "1       Family      0.0    0.0                0.0         0.0       0.0   0.0   \n",
       "2    Colleague      0.0    0.0                0.0         0.0       0.0   0.0   \n",
       "3  Aquaintance      0.0    0.0                0.0         0.0       0.0   0.0   \n",
       "\n",
       "   Modified Bayes Probabiliy  \n",
       "0                        0.0  \n",
       "1                        0.0  \n",
       "2                        0.0  \n",
       "3                        0.0  "
      ]
     },
     "execution_count": 17,
     "metadata": {},
     "output_type": "execute_result"
    }
   ],
   "source": [
    "### Storing data\n",
    "\n",
    "Contacts = pd.DataFrame(data = {'Names': Names})\n",
    "# App starts here:\n",
    "\n",
    "Contacts['Returns'] = np.zeros(len(Contacts.Names))\n",
    "# Returns is the total value of texts replied to per contact\n",
    "Contacts['Total'] = np.zeros(len(Contacts.Names))\n",
    "# Total is the number of texts received per contact\n",
    "Contacts['Bayes Probability']= np.zeros(len(Contacts.Names))\n",
    "# Bayes Probability uses the data stored on each contact (ie. Returns and total)\n",
    "# and uses these values to calculate the probability of wanting to respond to that person.\n",
    "\n",
    "Contacts['Likelihood'] = np.zeros(len(Contacts.Names))\n",
    "# Likelihood is the is the percentage of texts responded to by each contact.\n",
    "Contacts['Evidence'] = np.zeros(len(Contacts.Names))\n",
    "# Evidence is the confidence in the likelihood value\n",
    "Contacts['Last'] = np.zeros(len(Contacts.Names))\n",
    "# Last stores the number of the last text received from that person\n",
    "Contacts['Modified Bayes Probabiliy'] = np.zeros(len(Contacts.Names))\n",
    "# \"Modified Bayes Probability\" is the probability of a text being returned.\n",
    "# It is calculated using \"likelihood\" and \"Evidence\" neither of which collect\n",
    "# absolute data.\n",
    "Contacts.head()"
   ]
  },
  {
   "cell_type": "markdown",
   "metadata": {},
   "source": [
    "Above the necessary classifiers are defined that will be used for calculating posterior Bayes probability."
   ]
  },
  {
   "cell_type": "code",
   "execution_count": 18,
   "metadata": {},
   "outputs": [
    {
     "data": {
      "text/html": [
       "<div>\n",
       "<style scoped>\n",
       "    .dataframe tbody tr th:only-of-type {\n",
       "        vertical-align: middle;\n",
       "    }\n",
       "\n",
       "    .dataframe tbody tr th {\n",
       "        vertical-align: top;\n",
       "    }\n",
       "\n",
       "    .dataframe thead th {\n",
       "        text-align: right;\n",
       "    }\n",
       "</style>\n",
       "<table border=\"1\" class=\"dataframe\">\n",
       "  <thead>\n",
       "    <tr style=\"text-align: right;\">\n",
       "      <th></th>\n",
       "      <th>Names</th>\n",
       "      <th>Returns</th>\n",
       "      <th>Total</th>\n",
       "      <th>Bayes Probability</th>\n",
       "      <th>Likelihood</th>\n",
       "      <th>Evidence</th>\n",
       "      <th>Last</th>\n",
       "      <th>Modified Bayes Probabiliy</th>\n",
       "    </tr>\n",
       "  </thead>\n",
       "  <tbody>\n",
       "    <tr>\n",
       "      <th>0</th>\n",
       "      <td>Friend</td>\n",
       "      <td>123.0</td>\n",
       "      <td>225.0</td>\n",
       "      <td>0.0</td>\n",
       "      <td>0.293390</td>\n",
       "      <td>0.315057</td>\n",
       "      <td>985.0</td>\n",
       "      <td>0.0</td>\n",
       "    </tr>\n",
       "    <tr>\n",
       "      <th>1</th>\n",
       "      <td>Family</td>\n",
       "      <td>110.0</td>\n",
       "      <td>284.0</td>\n",
       "      <td>0.0</td>\n",
       "      <td>0.229068</td>\n",
       "      <td>0.404276</td>\n",
       "      <td>999.0</td>\n",
       "      <td>0.0</td>\n",
       "    </tr>\n",
       "    <tr>\n",
       "      <th>2</th>\n",
       "      <td>Colleague</td>\n",
       "      <td>58.0</td>\n",
       "      <td>232.0</td>\n",
       "      <td>0.0</td>\n",
       "      <td>0.138340</td>\n",
       "      <td>0.406771</td>\n",
       "      <td>998.0</td>\n",
       "      <td>0.0</td>\n",
       "    </tr>\n",
       "    <tr>\n",
       "      <th>3</th>\n",
       "      <td>Aquaintance</td>\n",
       "      <td>20.0</td>\n",
       "      <td>258.0</td>\n",
       "      <td>0.0</td>\n",
       "      <td>0.079615</td>\n",
       "      <td>0.638745</td>\n",
       "      <td>996.0</td>\n",
       "      <td>0.0</td>\n",
       "    </tr>\n",
       "  </tbody>\n",
       "</table>\n",
       "</div>"
      ],
      "text/plain": [
       "         Names  Returns  Total  Bayes Probability  Likelihood  Evidence  \\\n",
       "0       Friend    123.0  225.0                0.0    0.293390  0.315057   \n",
       "1       Family    110.0  284.0                0.0    0.229068  0.404276   \n",
       "2    Colleague     58.0  232.0                0.0    0.138340  0.406771   \n",
       "3  Aquaintance     20.0  258.0                0.0    0.079615  0.638745   \n",
       "\n",
       "    Last  Modified Bayes Probabiliy  \n",
       "0  985.0                        0.0  \n",
       "1  999.0                        0.0  \n",
       "2  998.0                        0.0  \n",
       "3  996.0                        0.0  "
      ]
     },
     "execution_count": 18,
     "metadata": {},
     "output_type": "execute_result"
    }
   ],
   "source": [
    "Cut_off = pd.Timedelta(minutes = 60)\n",
    "TotalSent = 0\n",
    "Prior = 1\n",
    "\n",
    "# Collecting Data\n",
    "def Increase_TotalSent(TotalSent):\n",
    "    TotalSent = TotalSent+1\n",
    "    return TotalSent\n",
    "\n",
    "def Increase_Returns(name):\n",
    "    Returns = Contacts.loc[Contacts['Names'] == name, 'Returns']\n",
    "    Returns = Returns + 1\n",
    "    Contacts.loc[Contacts['Names'] == name, 'Returns'] = Returns\n",
    "\n",
    "def Increase_TotalReceived(name):\n",
    "    Total = Contacts.loc[Contacts['Names'] == name, 'Total']\n",
    "    Total = Total + 1\n",
    "    Contacts.loc[Contacts['Names'] == name, 'Total'] = Total\n",
    "    \n",
    "# Not directly collecting data, just tracking probability\n",
    "def Increase_Prior(Prior, n):\n",
    "    Prior = (Prior*n+1)/(n+1)\n",
    "    return Prior\n",
    "    \n",
    "def Increase_Likelihood(name, n, Prior):   \n",
    "    Last = Contacts.loc[Contacts['Names'] == name, 'Last']\n",
    "    S = n*Prior\n",
    "    Likelihood = Contacts.loc[Contacts['Names'] == name, 'Likelihood']\n",
    "    Likelihood = (Likelihood*Last + 1)/S\n",
    "    Contacts.loc[Contacts['Names'] == name, 'Likelihood'] = Likelihood\n",
    "\n",
    "def Increase_Evidence(name, n):\n",
    "    Evidence = Contacts.loc[Contacts['Names'] == name, 'Evidence']\n",
    "    Last = Contacts.loc[Contacts['Names'] == name, 'Last']\n",
    "    Evidence = (Evidence*Last + 1)/(n+1)\n",
    "    Contacts.loc[Contacts['Names'] == name, 'Evidence'] = Evidence\n",
    "    \n",
    "def Update_last(name, count):\n",
    "    Contacts.loc[Contacts['Names'] == name, 'Last'] = count\n",
    "\n",
    "# Iterate through all past messages to quantify trends\n",
    "count = 0\n",
    "for i in range(0,len(MessagesFile)-1):    \n",
    "    if MessagesFile.loc[i, 'Received'] == True:\n",
    "        count = count + 1\n",
    "\n",
    "        N = MessagesFile.loc[i, 'Name']\n",
    "\n",
    "        time_delay = MessagesFile.loc[i+1, 'Time'] - MessagesFile.loc[i, 'Time']\n",
    "        if MessagesFile.loc[i+1,'Received'] == False and time_delay < Cut_off:\n",
    "            response = True\n",
    "\n",
    "            TotalSent = Increase_TotalSent(TotalSent)\n",
    "            Increase_Returns(N)\n",
    "            Increase_TotalReceived(N)\n",
    "\n",
    "            Prior = Increase_Prior(Prior, count)\n",
    "            Increase_Likelihood(N, count, Prior)\n",
    "            Increase_Evidence(N, count)\n",
    "            Update_last(N, count)\n",
    "            \n",
    "        else:\n",
    "            response = False\n",
    "            Update_last(N, count)\n",
    "            Increase_TotalReceived(N)\n",
    "            Increase_Evidence(N, count)\n",
    "\n",
    "    else:\n",
    "        received = False\n",
    "Contacts.head()"
   ]
  },
  {
   "cell_type": "markdown",
   "metadata": {},
   "source": [
    "### Each text is screened and data is stored in two ways:\n",
    "* For calculating Bayes probability it is necessary to know both the total number of texts received by each contact, as well as the total number of true reponses sent to each contact, this might be considered intrusive data colection.\n",
    "* For calculating Modified Bayes Probability, \"Likelihood\" and \"Evidence\" data is collected. These values are updated with each iteration and so does not require keeping track of past text information."
   ]
  },
  {
   "cell_type": "code",
   "execution_count": 22,
   "metadata": {},
   "outputs": [
    {
     "name": "stdout",
     "output_type": "stream",
     "text": [
      "         Names  Bayes Probability  Modified Bayes Probabiliy\n",
      "0       Friend           0.755615                   0.931227\n",
      "1       Family           0.424147                   0.566614\n",
      "2    Colleague           0.335129                   0.340094\n",
      "3  Aquaintance           0.093444                   0.124644\n"
     ]
    }
   ],
   "source": [
    "# Use information from past texts to predict future probability\n",
    "for Name in Names:\n",
    "    Returns = Contacts.loc[Contacts['Names'] == Name, 'Returns']\n",
    "    Total = Contacts.loc[Contacts['Names'] == Name, 'Total']\n",
    "    Likelihood = Contacts.loc[Contacts['Names'] == Name, 'Likelihood']\n",
    "    Evidence = Contacts.loc[Contacts['Names'] == Name, 'Evidence']\n",
    "\n",
    "    Contacts.loc[Contacts['Names'] == Name, \"Bayes Probability\"]\\\n",
    "    = (Returns * TotalSent)/ (Total * Total)\n",
    "\n",
    "    Contacts.loc[Contacts['Names'] == Name, \"Modified Bayes Probabiliy\"]\\\n",
    "    = (Likelihood * Prior)/ Evidence\n",
    "\n",
    "print(Contacts[[\"Names\",\"Bayes Probability\", \"Modified Bayes Probabiliy\"]])"
   ]
  },
  {
   "cell_type": "markdown",
   "metadata": {},
   "source": [
    "### similar results are acheived using either method of bayes calculation\n",
    "#### Based on the results of the Modifed Bayes Probability it would be possible to adjust the phones ringer to only receive texts from contacts with a high probability of eliciting a response:"
   ]
  },
  {
   "cell_type": "code",
   "execution_count": 24,
   "metadata": {},
   "outputs": [
    {
     "name": "stdout",
     "output_type": "stream",
     "text": [
      "Message received from Friend, ringer is on\n"
     ]
    }
   ],
   "source": [
    "def Incoming_Text(Name):\n",
    "    Posterior = Contacts.loc[Contacts['Names'] == Name, 'Modified Bayes Probabiliy']\n",
    "    if  0.5 < float(Posterior):\n",
    "        print(\"Message received from \"+ Name +\", ringer is on\")\n",
    "    else:\n",
    "        print('Message received from '+ Name + ', ringer is off')\n",
    "Incoming_Text(\"Friend\")"
   ]
  },
  {
   "cell_type": "code",
   "execution_count": 25,
   "metadata": {},
   "outputs": [
    {
     "name": "stdout",
     "output_type": "stream",
     "text": [
      "Message received from Colleague, ringer is off\n"
     ]
    }
   ],
   "source": [
    "Incoming_Text(\"Colleague\")"
   ]
  },
  {
   "cell_type": "code",
   "execution_count": null,
   "metadata": {},
   "outputs": [],
   "source": []
  }
 ],
 "metadata": {
  "kernelspec": {
   "display_name": "Python 3",
   "language": "python",
   "name": "python3"
  },
  "language_info": {
   "codemirror_mode": {
    "name": "ipython",
    "version": 3
   },
   "file_extension": ".py",
   "mimetype": "text/x-python",
   "name": "python",
   "nbconvert_exporter": "python",
   "pygments_lexer": "ipython3",
   "version": "3.6.5"
  }
 },
 "nbformat": 4,
 "nbformat_minor": 2
}
